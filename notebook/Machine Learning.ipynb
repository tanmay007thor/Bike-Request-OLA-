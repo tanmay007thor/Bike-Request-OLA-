{
 "cells": [
  {
   "cell_type": "code",
   "execution_count": 24,
   "id": "0d07b2ef",
   "metadata": {},
   "outputs": [],
   "source": [
    "import numpy as np \n",
    "import pandas as pd \n",
    "import numpy as np\n",
    "import pandas as pd\n",
    "import torch\n",
    "from torch_geometric.data import Data\n"
   ]
  },
  {
   "cell_type": "code",
   "execution_count": 25,
   "id": "75a53ea5",
   "metadata": {},
   "outputs": [
    {
     "name": "stdout",
     "output_type": "stream",
     "text": [
      "   season  weather   temp  humidity  windspeed  casual  registered  count  \\\n",
      "0       3        2   6.66     76.62       9.57       5         128    133   \n",
      "1       4        3  13.54     55.91       4.01      36         184    220   \n",
      "2       1        3  29.58     20.97      33.61      34          97    131   \n",
      "3       3        1   7.40     61.64      15.85       6          47     53   \n",
      "4       3        4  30.66     98.71      11.47      14         199    213   \n",
      "\n",
      "   day  month  year                 time  hour  minute  second  \n",
      "0    1      1  2011  1900-01-01 00:00:00     0       0       0  \n",
      "1    1      1  2011  1900-01-01 01:00:00     1       0       0  \n",
      "2    1      1  2011  1900-01-01 02:00:00     2       0       0  \n",
      "3    1      1  2011  1900-01-01 03:00:00     3       0       0  \n",
      "4    1      1  2011  1900-01-01 04:00:00     4       0       0  \n",
      "(10886, 15)\n",
      "<class 'pandas.core.frame.DataFrame'>\n"
     ]
    }
   ],
   "source": [
    "data = pd.read_csv('../data/ola_updated.csv')\n",
    "print(data.head())\n",
    "print(np.shape(data))\n",
    "print(type(data))"
   ]
  },
  {
   "cell_type": "code",
   "execution_count": null,
   "id": "ef457e13",
   "metadata": {},
   "outputs": [],
   "source": []
  }
 ],
 "metadata": {
  "kernelspec": {
   "display_name": "Python 3",
   "language": "python",
   "name": "python3"
  },
  "language_info": {
   "codemirror_mode": {
    "name": "ipython",
    "version": 3
   },
   "file_extension": ".py",
   "mimetype": "text/x-python",
   "name": "python",
   "nbconvert_exporter": "python",
   "pygments_lexer": "ipython3",
   "version": "3.13.1"
  }
 },
 "nbformat": 4,
 "nbformat_minor": 5
}
