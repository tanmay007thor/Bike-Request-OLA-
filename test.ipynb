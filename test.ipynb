{
 "cells": [
  {
   "cell_type": "code",
   "execution_count": 6,
   "id": "8888c64c",
   "metadata": {},
   "outputs": [],
   "source": [
    "import re,csv\n",
    "\n",
    "with open('./txt.txt','r',encoding='utf-8') as f:\n",
    "    text=f.read()\n",
    "\n",
    "# 1) Normalize whitespace & fix hyphen line‐breaks\n",
    "text=re.sub(r'\\s+',' ',text)\n",
    "text=re.sub(r'(\\w)-\\s+(\\w)',r'\\1\\2',text)\n",
    "\n",
    "# 2) Turn standalone \"Title – Chapter: X\" before QID into a Reference:\n",
    "text=re.sub(r'([A-Za-z0-9’& ]+?)\\s*[–-]\\s*Chapter:\\s*([^0-9]+?)\\s+(\\d+\\.)',\n",
    "            r'Reference: \"\\1\" – Chapter: \\2 \\3',text)\n",
    "\n",
    "# 3) Master pattern with optional author/chapter\n",
    "pat=re.compile(\n",
    " r'(\\d+)\\.\\s+(.*?)(?:\\?|:)\\s*'\n",
    " r'\\(a\\)\\s+(.*?)\\s+'\n",
    " r'\\(b\\)\\s+(.*?)\\s+'\n",
    " r'\\(c\\)\\s+(.*?)\\s+'\n",
    " r'\\(d\\)\\s+(.*?)\\s+'\n",
    " r'Answer:\\s*([A-D])\\.?\\s+.*?\\s+'\n",
    " r'Reference:\\s*”?(.+?)”?(?:\\s+by\\s+(.+?))?(?:\\s*[–-]\\s*Chapter:\\s*(.*?))?(?=\\s*\\d+\\.|$)',\n",
    " re.IGNORECASE\n",
    ")\n",
    "\n",
    "ans_map={'A':'1','B':'2','C':'3','D':'4'}\n",
    "rows=[]\n",
    "for m in pat.finditer(text):\n",
    "    qid,qt,c1,c2,c3,c4,al,book,author,chap=m.groups()\n",
    "    rows.append([qid,qt.strip(),c1,c2,c3,c4,ans_map[al], 'English',\n",
    "                 book.strip(), chap.strip() if chap else ''])\n",
    "\n",
    "with open('output.csv','w',newline='',encoding='utf-8') as f:\n",
    "    w=csv.writer(f)\n",
    "    w.writerow(['QUE_ID','QUE_TXTL','CH1_TXTL','CH2_TXTL','CH3_TXTL','CH4_TXTL','QUE_ANS','LANGUAGENAME','Reference Book Name:','Chapter Name:'])\n",
    "    w.writerows(rows)\n"
   ]
  }
 ],
 "metadata": {
  "kernelspec": {
   "display_name": "Python 3",
   "language": "python",
   "name": "python3"
  },
  "language_info": {
   "codemirror_mode": {
    "name": "ipython",
    "version": 3
   },
   "file_extension": ".py",
   "mimetype": "text/x-python",
   "name": "python",
   "nbconvert_exporter": "python",
   "pygments_lexer": "ipython3",
   "version": "3.13.1"
  }
 },
 "nbformat": 4,
 "nbformat_minor": 5
}
